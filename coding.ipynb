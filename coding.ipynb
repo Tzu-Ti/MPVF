{
 "cells": [
  {
   "cell_type": "code",
   "execution_count": null,
   "id": "d58353cd-7985-4cd1-8ae1-e31b6330b8d5",
   "metadata": {
    "tags": []
   },
   "outputs": [],
   "source": [
    "import os, glob\n",
    "import numpy as np\n",
    "from tqdm import tqdm\n",
    "from matplotlib import pyplot as plt"
   ]
  },
  {
   "cell_type": "code",
   "execution_count": null,
   "id": "3dca6ae3-5c9c-43f1-a337-cd9251380c2e",
   "metadata": {
    "tags": []
   },
   "outputs": [],
   "source": [
    "npy_paths = glob.glob(\"data/training_processed/patient*/*.npy\")\n",
    "len(npy_paths)"
   ]
  },
  {
   "cell_type": "code",
   "execution_count": null,
   "id": "98cffc7f-a503-4f22-a528-58cabacf4b5c",
   "metadata": {
    "tags": []
   },
   "outputs": [],
   "source": [
    "MM = []\n",
    "mm = []\n",
    "for p in tqdm(npy_paths):\n",
    "    npy = np.load(p)\n",
    "    # npy = np.clip(npy, -200, 2000)\n",
    "    M = npy.max()\n",
    "    m = npy.min()\n",
    "    MM.append(M)\n",
    "    mm.append(m)"
   ]
  },
  {
   "cell_type": "code",
   "execution_count": null,
   "id": "1eeddcff-1384-4316-847d-1547f368d318",
   "metadata": {
    "tags": []
   },
   "outputs": [],
   "source": [
    "H = plt.hist(MM)"
   ]
  },
  {
   "cell_type": "code",
   "execution_count": null,
   "id": "4e61c3c6-818d-4a15-8606-bd8f2cb431a3",
   "metadata": {
    "tags": []
   },
   "outputs": [],
   "source": [
    "h = plt.hist(mm)"
   ]
  },
  {
   "cell_type": "code",
   "execution_count": null,
   "id": "5dd7a742-5bc1-4501-bdbe-f8948c9b658a",
   "metadata": {},
   "outputs": [],
   "source": [
    "from train_BVF_pl import Model_factory\n",
    "from dataset import pyramid_dataset\n",
    "import argparse\n",
    "from torch.utils.data import DataLoader\n",
    "from multiprocessing import cpu_count\n",
    "import torch"
   ]
  },
  {
   "cell_type": "code",
   "execution_count": null,
   "id": "9f07bd2b-1ff6-4975-b96d-b05552fe7c03",
   "metadata": {
    "tags": []
   },
   "outputs": [],
   "source": [
    "def parse():\n",
    "    # Argument Parser\n",
    "    parser = argparse.ArgumentParser()\n",
    "    # dataset information\n",
    "    parser.add_argument('--train_folder', default='data/training_processed')\n",
    "    parser.add_argument('--test_folder', default='data/testing_4')\n",
    "    # training hyper-parameter\n",
    "    parser.add_argument('--model_name', required=True)\n",
    "    parser.add_argument('-b', '--batch_size', default=8, type=int)\n",
    "    parser.add_argument('-l', '--lr', default=1e-3,  type=float)\n",
    "    parser.add_argument('-e', '--epochs', default=2000, type=int)\n",
    "    # model hyper-parameter\n",
    "    parser.add_argument('--resume', action=\"store_true\")\n",
    "    parser.add_argument('--train', action=\"store_true\")\n",
    "    parser.add_argument('--test', action=\"store_true\")\n",
    "    \n",
    "    return parser.parse_args(args=['--model_name', '0617', '--train'])\n",
    "args = parse()"
   ]
  },
  {
   "cell_type": "code",
   "execution_count": null,
   "id": "2cc7da74-0ead-44af-bc12-871afa972f5c",
   "metadata": {
    "tags": []
   },
   "outputs": [],
   "source": [
    "Model = Model_factory.load_from_checkpoint('lightning_logs/0617/checkpoints/epoch=1999-step=14000.ckpt', args=args)"
   ]
  },
  {
   "cell_type": "code",
   "execution_count": null,
   "id": "513673d1-a4ee-4bea-bcaf-806129127696",
   "metadata": {
    "tags": []
   },
   "outputs": [],
   "source": [
    "valDataset = pyramid_dataset.dataset(args.test_folder, 0.5, train=False)\n",
    "valDataloader = DataLoader(dataset=valDataset,\n",
    "                           batch_size=1,\n",
    "                           shuffle=True, \n",
    "                           num_workers=cpu_count())"
   ]
  },
  {
   "cell_type": "code",
   "execution_count": null,
   "id": "39c07fb7-120b-4c70-ad02-0554748ed04a",
   "metadata": {
    "tags": []
   },
   "outputs": [],
   "source": [
    "for batch in valDataloader:\n",
    "    I0, I1, It, t = batch\n",
    "    I0 = I0.to('cuda')\n",
    "    I1 = I1.to('cuda')\n",
    "    It = It.to('cuda')\n",
    "    t = t.to('cuda')\n",
    "    break"
   ]
  },
  {
   "cell_type": "code",
   "execution_count": null,
   "id": "8358c185-1e0e-44e3-8cef-bb6257898f11",
   "metadata": {
    "tags": []
   },
   "outputs": [],
   "source": [
    "flow, flow_1_2, flow_1_4 = Model.model(I0, I1, t)\n",
    "flowt0, flowt1, It_0, It_1 = Model.warp(flow, I0, I1)"
   ]
  },
  {
   "cell_type": "code",
   "execution_count": null,
   "id": "2ba166a5-f1af-4292-b766-0e8de4a2dd27",
   "metadata": {
    "tags": []
   },
   "outputs": [],
   "source": [
    "from matplotlib import pyplot as plt"
   ]
  },
  {
   "cell_type": "code",
   "execution_count": null,
   "id": "cc0f4e66-f605-4c9a-ae9a-23b1cde4fab7",
   "metadata": {
    "tags": []
   },
   "outputs": [],
   "source": [
    "plt.figure(figsize=(10, 5))\n",
    "imgs = I0[0, 0].cpu().detach().numpy()\n",
    "for i in range(1, 11):\n",
    "    plt.subplot(2, 5, i)\n",
    "    plt.axis('off')\n",
    "    plt.imshow(imgs[i], cmap='gray', vmin=-1, vmax=1)"
   ]
  },
  {
   "cell_type": "code",
   "execution_count": null,
   "id": "3adf93ad-f414-46e4-9d85-1bc970278d7b",
   "metadata": {
    "tags": []
   },
   "outputs": [],
   "source": [
    "plt.figure(figsize=(10, 5))\n",
    "imgs = It_0[0, 0].cpu().detach().numpy()\n",
    "for i in range(1, 11):\n",
    "    plt.subplot(2, 5, i)\n",
    "    plt.axis('off')\n",
    "    plt.imshow(imgs[i], cmap='gray', vmin=-1, vmax=1)"
   ]
  },
  {
   "cell_type": "code",
   "execution_count": null,
   "id": "0c33f464-91cc-454f-8880-a13df5abd5c5",
   "metadata": {
    "tags": []
   },
   "outputs": [],
   "source": [
    "plt.figure(figsize=(10, 5))\n",
    "imgs = It[0, 0].cpu().detach().numpy()\n",
    "for i in range(1, 11):\n",
    "    plt.subplot(2, 5, i)\n",
    "    plt.axis('off')\n",
    "    plt.imshow(imgs[i], cmap='gray', vmin=-1, vmax=1)"
   ]
  },
  {
   "cell_type": "code",
   "execution_count": null,
   "id": "e6922628-7a18-4a6f-ba2f-4265703c5906",
   "metadata": {
    "tags": []
   },
   "outputs": [],
   "source": [
    "from skimage.metrics import peak_signal_noise_ratio as compare_psnr\n",
    "from skimage.metrics import structural_similarity as compare_ssim\n",
    "from skimage.metrics import mean_squared_error as compare_mse\n",
    "import torch\n",
    "from torchmetrics.functional import structural_similarity_index_measure\n",
    "from torchmetrics.functional import mean_squared_error"
   ]
  },
  {
   "cell_type": "code",
   "execution_count": null,
   "id": "9923f0cd-ebf5-4a01-a45d-168b01259e12",
   "metadata": {
    "tags": []
   },
   "outputs": [],
   "source": [
    "newI0 = Model.eliminate_border(It_0, I0)\n",
    "pred = Unormalize(newI0)[:, :, 1:-1, :, :]\n",
    "gt = Unormalize(It)[:, :, 1:-1, :, :]\n",
    "structural_similarity_index_measure(pred, gt, data_range=1), mean_squared_error(pred, gt)"
   ]
  },
  {
   "cell_type": "code",
   "execution_count": null,
   "id": "ce93a060-8328-4a9f-88ab-e464e2fdb098",
   "metadata": {
    "tags": []
   },
   "outputs": [],
   "source": [
    "def Unormalize(x):\n",
    "    x = x.clip(-1, 1)\n",
    "    x = (x+1) / 2\n",
    "    return x"
   ]
  },
  {
   "cell_type": "code",
   "execution_count": null,
   "id": "7e308125-bbd1-4e83-b5a0-e7a0425825f0",
   "metadata": {
    "tags": []
   },
   "outputs": [],
   "source": [
    "newI0 = Model.eliminate_border(It_0, I0)"
   ]
  },
  {
   "cell_type": "code",
   "execution_count": null,
   "id": "7dd2e998-a344-43a5-9bd7-3739ec2bf993",
   "metadata": {
    "tags": []
   },
   "outputs": [],
   "source": [
    "pred = Unormalize(newI0)[0, 0, 1:-1].cpu().detach().numpy()\n",
    "gt = Unormalize(It)[0, 0, 1:-1].cpu().detach().numpy()\n",
    "compare_psnr(pred, gt, data_range=1)"
   ]
  },
  {
   "cell_type": "code",
   "execution_count": null,
   "id": "9b8dda7c-98a5-4266-970a-8e51a4a16883",
   "metadata": {
    "tags": []
   },
   "outputs": [],
   "source": [
    "compare_ssim(pred, gt, data_range=1)"
   ]
  },
  {
   "cell_type": "code",
   "execution_count": null,
   "id": "549e1e84-9e0d-4c6a-8e57-2d81e20df542",
   "metadata": {
    "tags": []
   },
   "outputs": [],
   "source": [
    "pred.min(), pred.max(), gt.min(), gt.max()"
   ]
  },
  {
   "cell_type": "code",
   "execution_count": null,
   "id": "673441bc-cccc-4892-b98c-2c43a5e81ac3",
   "metadata": {
    "tags": []
   },
   "outputs": [],
   "source": [
    "import numpy as np"
   ]
  },
  {
   "cell_type": "code",
   "execution_count": null,
   "id": "46d1e9c6-206f-4d8f-9302-7777d43de9bd",
   "metadata": {
    "tags": []
   },
   "outputs": [],
   "source": [
    "one = \"data/testing_4/patient102/07.npy\"\n",
    "two = \"data/testing_4/patient102/17.npy\""
   ]
  },
  {
   "cell_type": "code",
   "execution_count": null,
   "id": "330fe703-1c19-4dde-bbd7-1e25a17fc02f",
   "metadata": {
    "tags": []
   },
   "outputs": [],
   "source": [
    "o = np.load(one)\n",
    "t = np.load(two)"
   ]
  },
  {
   "cell_type": "code",
   "execution_count": null,
   "id": "9ef252af-7a0a-4c8c-b1bc-edcb8e329c91",
   "metadata": {},
   "outputs": [],
   "source": [
    "o_mean_normalize = (o - o.mean()) / (o.max() - o.min())\n",
    "t_mean_normalize = (t - t.mean()) / (t.max() - t.min())\n",
    "o_mean_normalize.max(), o_mean_normalize.min()"
   ]
  },
  {
   "cell_type": "code",
   "execution_count": null,
   "id": "88947e58",
   "metadata": {},
   "outputs": [],
   "source": [
    "o_min_normalize = (o - o.min()) / (o.max() - o.min())\n",
    "t_min_normalize = (t - t.min()) / (t.max() - t.min())\n",
    "o_min_normalize.max(), o_min_normalize.min()"
   ]
  },
  {
   "cell_type": "code",
   "execution_count": null,
   "id": "0d894435",
   "metadata": {},
   "outputs": [],
   "source": [
    "from skimage.metrics import peak_signal_noise_ratio as compare_psnr"
   ]
  },
  {
   "cell_type": "code",
   "execution_count": null,
   "id": "3aa40809",
   "metadata": {},
   "outputs": [],
   "source": [
    "compare_psnr(o_mean_normalize, t_mean_normalize)"
   ]
  },
  {
   "cell_type": "code",
   "execution_count": null,
   "id": "dc0078b0",
   "metadata": {},
   "outputs": [],
   "source": [
    "compare_psnr(o_min_normalize, t_min_normalize)"
   ]
  },
  {
   "cell_type": "code",
   "execution_count": null,
   "id": "7cf571c5",
   "metadata": {},
   "outputs": [],
   "source": [
    "def unormalize(x):\n",
    "    return (x - x.mean()) / (x.max() - x.min())"
   ]
  },
  {
   "cell_type": "code",
   "execution_count": null,
   "id": "83a08249",
   "metadata": {},
   "outputs": [],
   "source": [
    "compare_psnr(unormalize(o_min_normalize), unormalize(t_min_normalize))"
   ]
  },
  {
   "cell_type": "code",
   "execution_count": 7,
   "id": "3165c06f",
   "metadata": {},
   "outputs": [
    {
     "data": {
      "text/plain": [
       "['data/training/patient039',\n",
       " 'data/training/patient036',\n",
       " 'data/training/patient092',\n",
       " 'data/training/patient025',\n",
       " 'data/training/patient069']"
      ]
     },
     "execution_count": 7,
     "metadata": {},
     "output_type": "execute_result"
    }
   ],
   "source": [
    "import glob, os\n",
    "patient_paths = glob.glob('data/training/patient*') + glob.glob('data/testing/patient*')\n",
    "patient_paths[:5]"
   ]
  },
  {
   "cell_type": "code",
   "execution_count": 8,
   "id": "0aaba369",
   "metadata": {},
   "outputs": [
    {
     "data": {
      "text/plain": [
       "['data/training/patient074',\n",
       " 'data/training/patient043',\n",
       " 'data/training/patient020',\n",
       " 'data/training/patient040',\n",
       " 'data/testing/patient113']"
      ]
     },
     "execution_count": 8,
     "metadata": {},
     "output_type": "execute_result"
    }
   ],
   "source": [
    "import random\n",
    "random.shuffle(patient_paths)\n",
    "patient_paths[:5]"
   ]
  },
  {
   "cell_type": "code",
   "execution_count": 10,
   "id": "147af713",
   "metadata": {},
   "outputs": [
    {
     "name": "stdout",
     "output_type": "stream",
     "text": [
      "data/training/patient074\n",
      "data/training/patient043\n",
      "data/training/patient020\n",
      "data/training/patient040\n",
      "data/testing/patient113\n",
      "data/training/patient041\n",
      "data/testing/patient107\n",
      "data/training/patient077\n",
      "data/training/patient066\n",
      "data/training/patient018\n",
      "data/testing/patient143\n",
      "data/training/patient036\n",
      "data/training/patient005\n",
      "data/training/patient045\n",
      "data/testing/patient142\n",
      "data/training/patient097\n",
      "data/testing/patient102\n",
      "data/training/patient034\n",
      "data/testing/patient135\n",
      "data/testing/patient101\n",
      "data/testing/patient125\n",
      "data/testing/patient127\n",
      "data/training/patient026\n",
      "data/testing/patient112\n",
      "data/training/patient085\n",
      "data/training/patient062\n",
      "data/testing/patient129\n",
      "data/testing/patient106\n",
      "data/training/patient090\n",
      "data/training/patient010\n",
      "data/training/patient067\n",
      "data/testing/patient148\n",
      "data/testing/patient126\n",
      "data/training/patient009\n",
      "data/testing/patient117\n",
      "data/testing/patient133\n",
      "data/testing/patient115\n",
      "data/training/patient057\n",
      "data/training/patient071\n",
      "data/training/patient050\n",
      "data/training/patient092\n",
      "data/training/patient008\n",
      "data/training/patient023\n",
      "data/training/patient004\n",
      "data/testing/patient144\n",
      "data/training/patient013\n",
      "data/training/patient096\n",
      "data/training/patient014\n",
      "data/training/patient078\n",
      "data/testing/patient120\n",
      "data/testing/patient116\n",
      "data/training/patient099\n",
      "data/training/patient055\n",
      "data/training/patient082\n",
      "data/training/patient039\n",
      "data/training/patient094\n",
      "data/training/patient080\n",
      "data/training/patient025\n",
      "data/training/patient064\n",
      "data/training/patient030\n",
      "data/training/patient052\n",
      "data/training/patient069\n",
      "data/testing/patient140\n",
      "data/training/patient060\n",
      "data/training/patient061\n",
      "data/training/patient063\n",
      "data/training/patient029\n",
      "data/training/patient053\n",
      "data/training/patient028\n",
      "data/training/patient033\n",
      "data/training/patient007\n",
      "data/training/patient002\n",
      "data/testing/patient124\n",
      "data/training/patient100\n",
      "data/training/patient083\n",
      "data/testing/patient118\n",
      "data/testing/patient150\n",
      "data/training/patient035\n",
      "data/training/patient068\n",
      "data/training/patient047\n",
      "data/training/patient087\n",
      "data/training/patient022\n",
      "data/testing/patient111\n",
      "data/training/patient012\n",
      "data/testing/patient149\n",
      "data/testing/patient145\n",
      "data/training/patient016\n",
      "data/training/patient089\n",
      "data/training/patient032\n",
      "data/training/patient011\n",
      "data/testing/patient146\n",
      "data/training/patient031\n",
      "data/training/patient058\n",
      "data/training/patient093\n",
      "data/training/patient076\n",
      "data/training/patient017\n",
      "data/testing/patient104\n",
      "data/training/patient056\n",
      "data/testing/patient109\n",
      "data/training/patient084\n",
      "data/testing/patient128\n",
      "data/testing/patient141\n",
      "data/testing/patient114\n",
      "data/training/patient054\n",
      "data/training/patient088\n",
      "data/training/patient091\n",
      "data/testing/patient131\n",
      "data/testing/patient137\n",
      "data/training/patient021\n",
      "data/training/patient073\n",
      "data/training/patient048\n",
      "data/testing/patient122\n",
      "data/training/patient006\n",
      "data/training/patient081\n",
      "data/training/patient042\n",
      "data/training/patient015\n",
      "data/training/patient038\n",
      "data/training/patient037\n",
      "data/training/patient046\n",
      "data/training/patient086\n",
      "data/testing/patient103\n",
      "data/training/patient019\n",
      "data/training/patient027\n",
      "data/training/patient079\n",
      "data/testing/patient138\n",
      "data/training/patient049\n",
      "data/training/patient095\n",
      "data/testing/patient134\n",
      "data/testing/patient130\n",
      "data/testing/patient110\n",
      "data/testing/patient136\n",
      "data/training/patient075\n",
      "data/training/patient070\n",
      "data/training/patient059\n",
      "data/testing/patient139\n",
      "data/training/patient051\n",
      "data/testing/patient105\n",
      "data/testing/patient108\n",
      "data/testing/patient147\n",
      "data/testing/patient119\n",
      "data/training/patient003\n",
      "data/training/patient001\n",
      "data/training/patient072\n",
      "data/testing/patient132\n",
      "data/training/patient065\n",
      "data/testing/patient123\n",
      "data/testing/patient121\n",
      "data/training/patient024\n",
      "data/training/patient044\n",
      "data/training/patient098\n"
     ]
    }
   ],
   "source": [
    "import shutil\n",
    "folder = \"data/training-2/\"\n",
    "if not os.path.isdir(folder):\n",
    "    os.makedirs(folder)\n",
    "for patient_path in patient_paths[:100]:\n",
    "    print(patient_path)\n",
    "    patient_name = patient_path.split('/')[-1]\n",
    "    shutil.copytree(patient_path, \"data/training-2/{}\".format(patient_name))\n",
    "\n",
    "folder = \"data/testing-2/\"\n",
    "if not os.path.isdir(folder):\n",
    "    os.makedirs(folder)\n",
    "for patient_path in patient_paths[100:]:\n",
    "    print(patient_path)\n",
    "    patient_name = patient_path.split('/')[-1]\n",
    "    shutil.copytree(patient_path, \"data/testing-2/{}\".format(patient_name))"
   ]
  },
  {
   "cell_type": "code",
   "execution_count": null,
   "id": "b99513d4",
   "metadata": {},
   "outputs": [],
   "source": []
  }
 ],
 "metadata": {
  "kernelspec": {
   "display_name": "Python 3 (ipykernel)",
   "language": "python",
   "name": "python3"
  },
  "language_info": {
   "codemirror_mode": {
    "name": "ipython",
    "version": 3
   },
   "file_extension": ".py",
   "mimetype": "text/x-python",
   "name": "python",
   "nbconvert_exporter": "python",
   "pygments_lexer": "ipython3",
   "version": "3.10.6"
  }
 },
 "nbformat": 4,
 "nbformat_minor": 5
}
